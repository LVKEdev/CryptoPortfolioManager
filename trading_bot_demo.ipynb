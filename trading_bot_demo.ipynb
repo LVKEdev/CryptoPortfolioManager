{
 "cells": [
  {
   "cell_type": "code",
   "execution_count": 91,
   "id": "064dbc77",
   "metadata": {},
   "outputs": [],
   "source": [
    "# The purpose of this file is to show the functionality of trading_bot.py\n",
    "# without having to run the file itself, as doing so will cause the program to make a trade."
   ]
  },
  {
   "cell_type": "code",
   "execution_count": 92,
   "id": "db1fd002",
   "metadata": {},
   "outputs": [],
   "source": [
    "#Run this code snippet to connect to the Binance API.\n",
    "import yaml\n",
    "from binance.client import Client\n",
    "\n",
    "with open('.api_keys.yaml') as f:\n",
    "    api_keys = yaml.safe_load(f)\n",
    "    \n",
    "client = Client(api_keys['binance_api'], api_keys['binance_secret'])"
   ]
  },
  {
   "cell_type": "code",
   "execution_count": 93,
   "id": "792ff55a",
   "metadata": {},
   "outputs": [],
   "source": [
    "# This notebook runs through the process of making a trade on Binance without making a trade itself.\n",
    "\n",
    "# Stage 1: Check if a file called 'portfolio/portfolio.yaml' exists.\n",
    "# This is the current holdings of the portfolio.\n",
    "# If it doesn't, one will be created so long as the user has 100 USDT free in their account.\n",
    "# File is safe to run.\n",
    "\n",
    "import os\n",
    "def check_portfolio(client):\n",
    "    '''Checks if portfolio exists yet - if it doesn't, one will be created so long as account has 100USDT'''\n",
    "    if not os.path.isfile('portfolio_info/portfolio.yaml'):\n",
    "        x = client.get_asset_balance(asset='USDT')['free']\n",
    "        x = int(x[:x.find('.')]+x[x.find('.')+1:x.find('.')+3])\n",
    "        if x < 100:\n",
    "            raise Exception('Account does not have enough free USDT to create portfolio.')\n",
    "        else:\n",
    "            with open('portfolio_info/default_portfolio.yaml','r') as f:\n",
    "                data = yaml.safe_load(f)\n",
    "            with open('portfolio_info/portfolio.yaml','w') as f:\n",
    "                yaml.dump(data,f)\n",
    "                \n",
    "check_portfolio(client)"
   ]
  },
  {
   "cell_type": "code",
   "execution_count": 94,
   "id": "55a070c0",
   "metadata": {},
   "outputs": [
    {
     "name": "stdout",
     "output_type": "stream",
     "text": [
      "ADAUSDT: {'amount': 17.8, 'currency': 'ADA'}\n",
      "BTCUSDT: {'amount': 0.00049, 'currency': 'BTC'}\n",
      "DOGEUSDT: {'amount': 139.0, 'currency': 'DOGE'}\n",
      "ETHUSDT: {'amount': 0.006, 'currency': 'ETH'}\n"
     ]
    }
   ],
   "source": [
    "# Stage 2: Assuming the file 'portfolio_info/portfolio.yaml' exists, the portfolio data\n",
    "# is a extracted from this config file\n",
    "\n",
    "def load_portfolio():\n",
    "    '''Loads portfolio from config file'''\n",
    "    with open('portfolio_info/portfolio.yaml','r') as f:\n",
    "        data = yaml.safe_load(f)\n",
    "    return data\n",
    "\n",
    "portfolio = load_portfolio()\n",
    "\n",
    "for x in portfolio:\n",
    "    print(f'{x}: {portfolio[x]}')"
   ]
  },
  {
   "cell_type": "code",
   "execution_count": 95,
   "id": "b11263ac",
   "metadata": {},
   "outputs": [
    {
     "name": "stdout",
     "output_type": "stream",
     "text": [
      "yesterday's date: 2022/01/16\n",
      "tweets posted that day: 40266\n",
      "percentage change from previous day:-31.356479411910797%\n"
     ]
    }
   ],
   "source": [
    "# Stage 3: Data from BitInfoCharts.com is scraped for a currency and stored to a variable.\n",
    "# Dogecoin is used as the example in this snippet.\n",
    "\n",
    "import requests\n",
    "from datetime import datetime, timedelta\n",
    "def get_most_recent_datapoint(currency):\n",
    "    '''Returns inputs to be used in machine learning file'''\n",
    "    url = f'https://bitinfocharts.com/comparison/{currency}-tweets.html'\n",
    "    source = requests.get(url, 'html.parser').text\n",
    "    a = source.find((datetime.utcnow()-timedelta(days=2)).strftime(\"%Y/%m/%d\"))\n",
    "    b = source.find((datetime.utcnow()-timedelta(days=1)).strftime(\"%Y/%m/%d\"))\n",
    "    c = source[b:].find(']')\n",
    "    d = source[a:b+c]\n",
    "    d = source[a:b+c].split(',')\n",
    "    pc = 100*(float(d[3])/float(d[1][:-1])-1)\n",
    "    return(d[2][11:-2], d[1][:-1], pc)\n",
    "\n",
    "data = get_most_recent_datapoint('dogecoin')\n",
    "print(f'yesterday\\'s date: {data[0]}\\ntweets posted that day: {data[1]}\\npercentage change from previous day:{data[2]}%')"
   ]
  },
  {
   "cell_type": "code",
   "execution_count": 53,
   "id": "89724fd4",
   "metadata": {},
   "outputs": [],
   "source": [
    "# Stage 4: A temporary ARFF file is created using the data from BitInfoCharts\n",
    "\n",
    "def generate_temp_arff(data, c):\n",
    "    '''Generates a hidden .arff file that is used by autoweka.jar machine learning model. Data must be in format ('%Y/%m/%d',int>=0,float>=-100.0) or error will be raised'''\n",
    "    with open('.temp.arff','w') as f:\n",
    "        f.write(f'@relation {c}_price\\n\\n@attribute date date yyyy/MM/dd\\n@attribute tweets numeric\\n@attribute tweet_change numeric\\n@attribute price numeric\\n\\n@data\\n')\n",
    "        f.write(f'{data[0]},{data[1]},{data[2]},0')\n",
    "\n",
    "generate_temp_arff(data, 'dogecoin')"
   ]
  },
  {
   "cell_type": "code",
   "execution_count": 96,
   "id": "f847bfd9",
   "metadata": {},
   "outputs": [],
   "source": [
    "# Stage 5: A prediction is made using the saved WEKA model and the temporary ARFF file\n",
    "\n",
    "\n",
    "def predict_price(c):\n",
    "    '''Temporary .arff file and machine learning model stored in data folder'''\n",
    "    stream = os.popen(f'java -cp autoweka.jar weka.classifiers.meta.AutoWEKAClassifier -T .temp.arff -l models/{code(c).lower()}dl.model -p 0')\n",
    "    x = float(stream.read().split(\"\\n\")[5].split()[2])\n",
    "    return x*100 if c in ('dogecoin','cardano') else x\n",
    "    # Why x*100 for dogecoin and cardano? As Dogecoin and Cardano are both low in value, and WEKA only\n",
    "    # makes predictions to 2 decimal places, their values are done in cents. The data sets used to create\n",
    "    # the models for Cardano and Dogecoin also did this.\n",
    "\n",
    "prediction = predict_price('dogecoin')\n",
    "#WEKA not working? Comment out the line above and uncomment the line below for some sample data.\n",
    "#prediction = 51.1"
   ]
  },
  {
   "cell_type": "code",
   "execution_count": 97,
   "id": "caaaf188",
   "metadata": {},
   "outputs": [
    {
     "name": "stdout",
     "output_type": "stream",
     "text": [
      "17.31\n"
     ]
    }
   ],
   "source": [
    "# Stage 6: The current price of the asset is gathered from Binance\n",
    "\n",
    "def code(currency):\n",
    "    '''Returns three letter code used for each cryptocurrency (four letter in case of dogecoin)'''\n",
    "    return 'DOGE' if currency == 'dogecoin' else 'ETH' if currency == 'ethereum' else 'BTC' if currency == 'bitcoin' else 'ADA'\n",
    "\n",
    "def exchange(currency):\n",
    "    '''Returns trading code for currency vs USDT'''\n",
    "    return f'{code(currency)}USDT'\n",
    "\n",
    "def get_price(client, c, trading=False):\n",
    "    '''Binance API is used to get current price of a cryptocurrency'''\n",
    "    x = float(client.get_symbol_ticker(symbol=exchange(c))['price'])\n",
    "    return x*100 if c in ('dogecoin','cardano') and not trading else x\n",
    "\n",
    "price = get_price(client, 'dogecoin')\n",
    "print(price)"
   ]
  },
  {
   "cell_type": "code",
   "execution_count": 98,
   "id": "a74f9642",
   "metadata": {},
   "outputs": [
    {
     "data": {
      "text/plain": [
       "True"
      ]
     },
     "execution_count": 98,
     "metadata": {},
     "output_type": "execute_result"
    }
   ],
   "source": [
    "# Stage 7: The system checks whether the USDT value of the asset in the portfolio has not slipped\n",
    "# below 10 USDT (whether held as USDT or not). Trades must be worth a minimum of 10 USDT.\n",
    "\n",
    "def check_tradable(c):\n",
    "    '''As Binance trades must be worth a minimum of 10USDT, a check is put in place to make sure the value of each sub-portfolio has not slipped below 10USDT'''\n",
    "    data = load_portfolio()\n",
    "    if data[exchange(c)]['currency']=='USDT':\n",
    "        if data[exchange(c)]['amount'] >= 1000:\n",
    "            return True\n",
    "        return False\n",
    "    else:\n",
    "        price = get_price(client, c)\n",
    "        price *= 100 if c in ('ethereum','bitcoin') else 1\n",
    "        if data[exchange(c)]['amount']*price >= 1000:\n",
    "            return True\n",
    "        return False\n",
    "    \n",
    "check_tradable('dogecoin')"
   ]
  },
  {
   "cell_type": "code",
   "execution_count": 80,
   "id": "26904cec",
   "metadata": {},
   "outputs": [
    {
     "name": "stdout",
     "output_type": "stream",
     "text": [
      "No buy/sell action. 17.8 DOGE is held.\n"
     ]
    }
   ],
   "source": [
    "# Stage 8: Assuming check_tradable(c) is True, a cryptocurrency is bought if its current price is\n",
    "# below the prediction price and sold if the price is expected to drop. The code that makes trades\n",
    "# has been commented out and the functions are not included here: a print statement is used instead.\n",
    "\n",
    "def trade(price, prediction, portfolio, c, client):\n",
    "    '''Makes buy/sell/hodl decision and executes trades (see buy() and sell() methods)'''\n",
    "    if prediction > price and portfolio[exchange(c)]['currency']=='USDT':\n",
    "        #buy(portfolio, c, client)\n",
    "        print(f\"{c} bought\")\n",
    "    elif price > price and portfolio[exchange(c)]['currency']!='USDT':\n",
    "        #sell(portfolio, c, client)\n",
    "        print(f\"{c} sold!\")\n",
    "    else:\n",
    "        print(f\"No buy/sell action. {portfolio[exchange(c)]['amount']} {c} is held.\")\n",
    "\n",
    "trade(price, prediction, portfolio, 'DOGE', client)"
   ]
  },
  {
   "cell_type": "code",
   "execution_count": 69,
   "id": "61f6ef6d",
   "metadata": {},
   "outputs": [],
   "source": [
    "# For viewing purposes only, here is the code for enacting buy/sell actions\n",
    "\n",
    "# def buy(portfolio, c, client):\n",
    "#     '''USE WITH CAUTION\n",
    "#         Executes a buy decision and updates portfolio variable accordingly; p!=q due to trading fees and imprecision between converting between currencies'''\n",
    "#     q = str((portfolio[exchange(c)]['amount']/100)/get_price(client,c,trading=True))\n",
    "#     q = q[:q.find('.')+get_precision(c)+1]\n",
    "#     if q[-1]=='.':\n",
    "#         q=int(q[:-1])\n",
    "#     else:\n",
    "#         q=float(q)\n",
    "#     if q>float(client.get_asset_balance(asset='USDT')['free'])/get_price(client, c, trading=True):\n",
    "#         raise Exception(\"Insufficient funds to carry out transaction - too much USDT has been withdrawn\")\n",
    "#     client.order_market_buy(\n",
    "#         symbol=exchange(c),\n",
    "#         quantity=q\n",
    "#     )\n",
    "#     p = client.get_asset_balance(asset=code(c))['free']\n",
    "#     p = p[:p.find('.')+get_precision(c)+1]\n",
    "#     if p[-1]=='.':\n",
    "#         p = p[:-1]\n",
    "#     portfolio[exchange(c)]['amount'] = float(p)\n",
    "#     portfolio[exchange(c)]['currency'] = code(c)\n",
    "\n",
    "# def sell(portfolio, c, client):\n",
    "#     '''USE WITH CAUTION\n",
    "#         Executes sell decision and updates portfolio variable accordingly; p!=q due to trading fees and imprecision between converting between currencies'''\n",
    "#     a = client.get_asset_balance(asset='USDT')['free']\n",
    "#     usdt_before = int(a[:a.find('.')]+a[a.find('.')+1:a.find('.')+3])\n",
    "#     quantity=client.get_asset_balance(asset=code(c))\n",
    "#     client.order_market_sell(\n",
    "#         symbol=exchange(c),\n",
    "#         quantity=quantity\n",
    "#     )\n",
    "#     b = client.get_asset_balance(asset='USDT')['free']\n",
    "#     usdt_after = int(b[:b.find('.')]+b[b.find('.')+1:b.find('.')+3])\n",
    "#     portfolio[exchange(c)]['amount'] = usdt_after-usdt_before\n",
    "#     portfolio[exchange(c)]['currency'] = 'USDT'"
   ]
  },
  {
   "cell_type": "code",
   "execution_count": 99,
   "id": "6cd24976",
   "metadata": {},
   "outputs": [
    {
     "name": "stdout",
     "output_type": "stream",
     "text": [
      "No buy/sell action. 139.0 dogecoin is held.\n",
      "No buy/sell action. 0.006 ethereum is held.\n",
      "No buy/sell action. 0.00049 bitcoin is held.\n",
      "No buy/sell action. 17.8 cardano is held.\n"
     ]
    }
   ],
   "source": [
    "# Stages 3-8 are repeated for each cryptocurrency.\n",
    "\n",
    "weka_functioning = True\n",
    "for c in ('dogecoin','ethereum','bitcoin','cardano'):\n",
    "    data = get_most_recent_datapoint(c)\n",
    "    generate_temp_arff(data,c)\n",
    "    if weka_functioning:\n",
    "        prediction = predict_price(c)\n",
    "    else:\n",
    "        prediction = 13.0 if c=='dogecoin' else 45324.31 if c=='bitcoin' else 2953.31 if c=='ethereum' else 101.03\n",
    "    price = get_price(client,c)\n",
    "    if (check_tradable(c)):\n",
    "        trade(price, prediction, portfolio, c, client)\n",
    "        \n"
   ]
  },
  {
   "cell_type": "code",
   "execution_count": 100,
   "id": "05689798",
   "metadata": {},
   "outputs": [],
   "source": [
    "# Final stage: configuration files are updated. Demo versions of 'portfolio_info/portfolio.yaml'\n",
    "# and 'portfolio_info/portfolio_history.yaml' have been created so files are not overwritten.\n",
    "\n",
    "def currency(code):\n",
    "    '''Returns cryptocurrency name for each crypto code'''\n",
    "    return 'dogecoin' if code =='DOGE' else 'ethereum' if code == 'ETH' else 'bitcoin' if code == 'BTC' else 'ADA'\n",
    "\n",
    "def add_to_history(portfolio, client):\n",
    "    '''Updates portfolio.yaml file and appends new information to portfolio_history.yaml'''\n",
    "#     with open('portfolio_info/portfolio.yaml','w') as f:\n",
    "#         yaml.dump(portfolio,f)\n",
    "    with open('portfolio_info/portfolio_DEMO.yaml','w') as f:\n",
    "        yaml.dump(portfolio,f)\n",
    "    total_value = 0\n",
    "    temp_portfolio = portfolio\n",
    "    for k in temp_portfolio:\n",
    "        temp_portfolio[k]['value'] = temp_portfolio[k]['amount'] if temp_portfolio[k]['currency']=='USDT' else round(temp_portfolio[k]['amount']*get_price(client,currency(temp_portfolio[k]['currency']),trading=True)*100)\n",
    "        round(temp_portfolio[k]['amount']*get_price(client, currency(temp_portfolio[k]['currency']),trading=True))\n",
    "        total_value+=temp_portfolio[k]['value']\n",
    "    temp_portfolio['total_value'] = total_value\n",
    "    with open('portfolio_info/portfolio_history.yaml','r') as f:\n",
    "        data = yaml.safe_load(f)\n",
    "        data[len(data)] = temp_portfolio\n",
    "#     with open('portfolio_info/portfolio_history.yaml','w') as f:\n",
    "#         yaml.dump(data,f)\n",
    "    with open('portfolio_info/portfolio_history_DEMO.yaml','w') as f:\n",
    "        yaml.dump(data,f)\n",
    "    \n",
    "add_to_history(portfolio,client)"
   ]
  },
  {
   "cell_type": "code",
   "execution_count": null,
   "id": "5fc06fac",
   "metadata": {},
   "outputs": [],
   "source": []
  }
 ],
 "metadata": {
  "kernelspec": {
   "display_name": "Python 3 (ipykernel)",
   "language": "python",
   "name": "python3"
  },
  "language_info": {
   "codemirror_mode": {
    "name": "ipython",
    "version": 3
   },
   "file_extension": ".py",
   "mimetype": "text/x-python",
   "name": "python",
   "nbconvert_exporter": "python",
   "pygments_lexer": "ipython3",
   "version": "3.9.1"
  }
 },
 "nbformat": 4,
 "nbformat_minor": 5
}
